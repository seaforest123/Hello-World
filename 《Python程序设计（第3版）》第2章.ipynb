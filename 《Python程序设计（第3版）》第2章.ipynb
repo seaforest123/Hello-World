{
 "cells": [
  {
   "cell_type": "code",
   "execution_count": 1,
   "metadata": {},
   "outputs": [
    {
     "name": "stdout",
     "output_type": "stream",
     "text": [
      "[3, 5, 7, 9, 11]\n",
      "[1, 3, 5, 7, 9]\n",
      "['h', 'e', 'l', 'l', 'o', ' ', 'w', 'o', 'r', 'l', 'd']\n"
     ]
    }
   ],
   "source": [
    "# 2.1.1  列表创建与删除\n",
    "\n",
    "# 使用“=”直接将一个列表赋值给变量即可创建列表对象\n",
    "\n",
    "a_list = ['a', 'b', 'mpilgrim', 'z', 'example']\n",
    "a_list = []                            #创建空列表\n",
    "\n",
    "# 也可以使用list()函数将元组、range对象、字符串或其他类型的可迭代对象类型的数据转换为列表。\n",
    "a_list = list((3,5,7,9,11))\n",
    "print(a_list)\n",
    "print(list(range(1,10,2)))\n",
    "print(list('hello world'))\n",
    "x = list()                            #创建空列表"
   ]
  },
  {
   "cell_type": "code",
   "execution_count": 2,
   "metadata": {},
   "outputs": [
    {
     "name": "stdout",
     "output_type": "stream",
     "text": [
      "[3, 4, 5, 7]\n"
     ]
    }
   ],
   "source": [
    "# 2.1.2  列表元素的增加\n",
    "#（1）可以使用“+”运算符将元素添加到列表中。\n",
    "\n",
    "aList = [3,4,5]\n",
    "aList = aList + [7]\n",
    "print(aList)"
   ]
  },
  {
   "cell_type": "code",
   "execution_count": 3,
   "metadata": {},
   "outputs": [
    {
     "name": "stdout",
     "output_type": "stream",
     "text": [
      "[3, 4, 5, 7, 9]\n"
     ]
    }
   ],
   "source": [
    "# （2）使用列表对象的append()方法在当前列表尾部追加元素，原地修改列表，是真正意义上的在列表尾部添加元素，速度较快。\n",
    "\n",
    "aList.append(9)\n",
    "print(aList)"
   ]
  },
  {
   "cell_type": "code",
   "execution_count": 6,
   "metadata": {},
   "outputs": [
    {
     "name": "stdout",
     "output_type": "stream",
     "text": [
      "[3, 4, 5, 7, 9, 7, 8, 9, 11, 13, 15, 17, 7, 8, 9]\n",
      "[3, 4, 5, 7, 9, 7, 8, 9, 11, 13, 15, 17, 7, 8, 9, 11, 13]\n",
      "[3, 4, 5, 7, 9, 7, 8, 9, 11, 13, 15, 17, 7, 8, 9, 11, 13, 15, 17]\n"
     ]
    }
   ],
   "source": [
    "# （3）使用列表对象的extend()方法可以将另一个迭代对象的所有元素添加至该列表对象尾部。通过extend()方法来增加列表元素也不改变其内存首地址，属于原地操作。\n",
    "\n",
    "aList.extend([7,8,9])\n",
    "print(aList)\n",
    "aList.extend([11,13])\n",
    "print(aList)\n",
    "aList.extend((15,17))\n",
    "print(aList)"
   ]
  },
  {
   "cell_type": "code",
   "execution_count": 7,
   "metadata": {},
   "outputs": [
    {
     "name": "stdout",
     "output_type": "stream",
     "text": [
      "[3, 4, 5, 6, 7, 9, 7, 8, 9, 11, 13, 15, 17, 7, 8, 9, 11, 13, 15, 17]\n"
     ]
    }
   ],
   "source": [
    "#（4）使用列表对象的insert()方法将元素添加至列表的指定位置。\n",
    "\n",
    "aList.insert(3, 6)                #在下标为3的位置插入元素6\n",
    "print(aList)\n"
   ]
  },
  {
   "cell_type": "code",
   "execution_count": 8,
   "metadata": {},
   "outputs": [
    {
     "name": "stdout",
     "output_type": "stream",
     "text": [
      "[3, 5, 7, 3, 5, 7, 3, 5, 7]\n"
     ]
    }
   ],
   "source": [
    "# （5）使用乘法来扩展列表对象，将列表与整数相乘，生成一个新列表，新列表是原列表中元素的重复。\n",
    "\n",
    "aList = [3, 5, 7]\n",
    "print(aList * 3)"
   ]
  },
  {
   "cell_type": "code",
   "execution_count": 9,
   "metadata": {},
   "outputs": [
    {
     "name": "stdout",
     "output_type": "stream",
     "text": [
      "[3, 7, 9, 11]\n"
     ]
    }
   ],
   "source": [
    "# 2.1.3  列表元素的删除\n",
    "\n",
    "#（1）使用del命令删除列表中的指定位置上的元素。\n",
    "\n",
    "a_list = [3,5,7,9,11]\n",
    "del a_list[1]\n",
    "print(a_list)"
   ]
  },
  {
   "cell_type": "code",
   "execution_count": 10,
   "metadata": {},
   "outputs": [
    {
     "name": "stdout",
     "output_type": "stream",
     "text": [
      "11\n",
      "[3, 5, 7, 9]\n",
      "5\n",
      "[3, 7, 9]\n"
     ]
    }
   ],
   "source": [
    "#（2）使用列表的pop()方法删除并返回指定位置（默认为最后一个）上的元素，如果给定的索引超出了列表的范围则抛出异常。\n",
    "\n",
    "a_list = list((3,5,7,9,11))\n",
    "print(a_list.pop())\n",
    "print(a_list)\n",
    "print(a_list.pop(1))\n",
    "print(a_list)"
   ]
  },
  {
   "cell_type": "code",
   "execution_count": 11,
   "metadata": {},
   "outputs": [
    {
     "name": "stdout",
     "output_type": "stream",
     "text": [
      "[3, 5, 9, 7, 11]\n"
     ]
    }
   ],
   "source": [
    "#（3）使用列表对象的remove()方法删除首次出现的指定元素，如果列表中不存在要删除的元素，则抛出异常。\n",
    "\n",
    "a_list = [3,5,7,9,7,11]\n",
    "a_list.remove(7)\n",
    "print(a_list)"
   ]
  },
  {
   "cell_type": "code",
   "execution_count": 16,
   "metadata": {},
   "outputs": [
    {
     "name": "stdout",
     "output_type": "stream",
     "text": [
      "6\n",
      "[3, 4, 5, 5.5, 7, 9, 11, 13, 15, 17]\n"
     ]
    }
   ],
   "source": [
    "# 2.1.4  列表元素访问与计数\n",
    "\n",
    "# 使用下标直接访问列表元素，如果指定下标不存在，则抛出异常。\n",
    "\n",
    "aList = [3, 4, 5, 6, 7, 9, 11, 13, 15, 17]\n",
    "print(aList[3])\n",
    "aList[3] = 5.5\n",
    "print(aList)\n",
    "#print(aList[15])"
   ]
  },
  {
   "cell_type": "code",
   "execution_count": 18,
   "metadata": {},
   "outputs": [
    {
     "name": "stdout",
     "output_type": "stream",
     "text": [
      "[3, 4, 5, 5.5, 7, 9, 11, 13, 15, 17]\n",
      "4\n"
     ]
    }
   ],
   "source": [
    "# 使用列表对象的index()方法获取指定元素首次出现的下标，若列表对象中不存在指定元素，则抛出异常。\n",
    "\n",
    "print(aList)\n",
    "print(aList.index(7))\n",
    "#print(aList.index(100))"
   ]
  },
  {
   "cell_type": "code",
   "execution_count": 19,
   "metadata": {},
   "outputs": [
    {
     "name": "stdout",
     "output_type": "stream",
     "text": [
      "[3, 4, 5, 5.5, 7, 9, 11, 13, 15, 17]\n",
      "1\n",
      "0\n",
      "0\n"
     ]
    }
   ],
   "source": [
    "# 使用列表对象的count()方法统计指定元素在列表对象中出现的次数。\n",
    "\n",
    "print(aList)\n",
    "print(aList.count(7))\n",
    "print(aList.count(0))\n",
    "print(aList.count(8))"
   ]
  },
  {
   "cell_type": "code",
   "execution_count": 20,
   "metadata": {},
   "outputs": [
    {
     "name": "stdout",
     "output_type": "stream",
     "text": [
      "True\n",
      "False\n",
      "False\n"
     ]
    }
   ],
   "source": [
    "# 2.1.5  成员资格判断\n",
    "\n",
    "# 使用in关键字来判断一个值是否存在于列表中，返回结果为“True”或“False”。\n",
    "aList = [3, 4, 5, 5.5, 7, 9, 11, 13, 15, 17]\n",
    "print(3 in aList)\n",
    "print(18 in aList)\n",
    "\n",
    "bList = [[1], [2], [3]]\n",
    "print(3 in bList)"
   ]
  },
  {
   "cell_type": "code",
   "execution_count": 22,
   "metadata": {},
   "outputs": [
    {
     "name": "stdout",
     "output_type": "stream",
     "text": [
      "[3, 4, 5, 6, 7, 9, 11, 13, 15, 17]\n",
      "[17, 15, 13, 11, 9, 7, 6, 5, 4, 3]\n",
      "[3, 5, 7, 11, 15]\n",
      "[4, 6, 9, 13, 17]\n",
      "[6, 7, 9, 11, 13, 15, 17]\n",
      "[6, 7, 9]\n",
      "[3, 4, 5, 6, 7, 9, 11, 13, 15, 17]\n",
      "[]\n"
     ]
    }
   ],
   "source": [
    "# 2.1.6  切片操作\n",
    "\n",
    "aList = [3, 4, 5, 6, 7, 9, 11, 13, 15, 17]\n",
    "print(aList[::])                            #返回包含所有元素的新列表\n",
    "print(aList[::-1])                          #逆序的所有元素\n",
    "print(aList[::2])                           #偶数位置，隔一个取一个\n",
    "print(aList[1::2])                          #奇数位置，隔一个取一个\n",
    "print(aList[3::])                           #从下标3开始的所有元素\n",
    "print(aList[3:6])                           #下标在[3, 6)之间的所有元素\n",
    "print(aList[0:100:1])                       #前100个元素，自动截断\n",
    "print(aList[100:])                          #下标100之后的所有元素，自动截断\n",
    "#print(aList[100])                           #直接使用下标访问会发生越界"
   ]
  },
  {
   "cell_type": "code",
   "execution_count": 23,
   "metadata": {},
   "outputs": [
    {
     "name": "stdout",
     "output_type": "stream",
     "text": [
      "[3, 5, 7, 9]\n",
      "[1, 2, 3, 9]\n",
      "[9]\n",
      "[0, 1, 2, 3, 4, 5, 6, 7, 8, 9]\n",
      "[0, 1, 0, 3, 0, 5, 0, 7, 0, 9]\n"
     ]
    }
   ],
   "source": [
    "# 可以使用切片来原地修改列表内容\n",
    "\n",
    "aList = [3, 5, 7]\n",
    "aList[len(aList):] = [9]      #在尾部追加元素\n",
    "print(aList)\n",
    "aList[:3] = [1, 2, 3]         #替换前3个元素\n",
    "print(aList)\n",
    "aList[:3] = []                #删除前3个元素\n",
    "print(aList)\n",
    "aList = list(range(10))\n",
    "print(aList)\n",
    "aList[::2] = [0]*5            #替换偶数位置上的元素\n",
    "print(aList)\n",
    "#aList[::2] = [0]*3            #切片不连续，两侧元素个数必须一样多"
   ]
  },
  {
   "cell_type": "code",
   "execution_count": 24,
   "metadata": {},
   "outputs": [
    {
     "name": "stdout",
     "output_type": "stream",
     "text": [
      "[9, 11]\n",
      "[5, 9]\n"
     ]
    }
   ],
   "source": [
    "# 使用del与切片结合来删除列表元素\n",
    "\n",
    "aList = [3,5,7,9,11]\n",
    "del aList[:3]                          #删除前3个元素\n",
    "print(aList)\n",
    "\n",
    "aList = [3,5,7,9,11]\n",
    "del aList[::2]                         #删除偶数位置上的元素\n",
    "print(aList)"
   ]
  },
  {
   "cell_type": "code",
   "execution_count": 26,
   "metadata": {},
   "outputs": [
    {
     "name": "stdout",
     "output_type": "stream",
     "text": [
      "True\n",
      "False\n",
      "False\n",
      "[3, 8, 7]\n",
      "[3, 5, 7]\n"
     ]
    }
   ],
   "source": [
    "# 切片返回的是浅复制。所谓浅复制，是指生成一个新的列表，并且把原列表中所选元素的引用都复制到新列表中。如果原列表中只包含整数、实数、复数等基本类型或元组、字符串这样的不可变类型的数据，一般是没有问题的。\n",
    "\n",
    "aList = [3, 5, 7]\n",
    "bList = aList[::]                        #切片，浅复制\n",
    "print(aList == bList)                    #两个列表的元素完全一样\n",
    "print(aList is bList)                    #但不是同一个对象\n",
    "print(id(aList) == id(bList))            #内存地址不一样\n",
    "bList[1] = 8                             #修改其中一个不会影响另一个\n",
    "print(bList)\n",
    "print(aList)"
   ]
  },
  {
   "cell_type": "code",
   "execution_count": 27,
   "metadata": {},
   "outputs": [
    {
     "name": "stdout",
     "output_type": "stream",
     "text": [
      "[3, [5, 6], 7]\n",
      "[3, [5, 6], 7]\n"
     ]
    }
   ],
   "source": [
    "# 如果原列表中包含列表之类的可变数据类型，由于浅复制时只是把子列表的引用复制到新列表中，这样的话修改任何一个都会影响另外一个。\n",
    "aList = [3, [5], 7]        #列表aList中包含可变的列表对象\n",
    "bList = aList[:]           #切片\n",
    "bList[1].append(6)         #调用子列表的append()方法，这个方法是原地操作的\n",
    "print(bList)\n",
    "print(aList)               #aList受到影响"
   ]
  },
  {
   "cell_type": "code",
   "execution_count": 28,
   "metadata": {},
   "outputs": [
    {
     "name": "stdout",
     "output_type": "stream",
     "text": [
      "True\n",
      "False\n",
      "[3, [5, 6], 7]\n",
      "[3, [5], 7]\n"
     ]
    }
   ],
   "source": [
    "# 标准库copy中的deepcopy()函数实现深复制。\n",
    "# 所谓深复制，是指对原列表中的元素进行递归，把所有的值都复制到新列表中，对嵌套的子列表不再是复制引用。\n",
    "# 新列表和原列表是互相独立，修改任何一个都不会影响另外一个。\n",
    "\n",
    "aList = [3, [5], 7]\n",
    "import copy\n",
    "\n",
    "bList = copy.deepcopy(aList) #深赋值，递归复制，直到遇到可哈希对象\n",
    "                           #aList和bList完全独立，互相不影响\n",
    "print(aList == bList)\n",
    "print(aList is bList)\n",
    "bList[1].append(6)         #修改bList不会影响aList\n",
    "print(bList)\n",
    "print(aList)"
   ]
  },
  {
   "cell_type": "code",
   "execution_count": 29,
   "metadata": {},
   "outputs": [
    {
     "name": "stdout",
     "output_type": "stream",
     "text": [
      "[13, 7, 15, 5, 17, 9, 3, 11, 6, 4]\n",
      "[3, 4, 5, 6, 7, 9, 11, 13, 15, 17]\n",
      "[17, 15, 13, 11, 9, 7, 6, 5, 4, 3]\n",
      "[9, 7, 6, 5, 4, 3, 17, 15, 13, 11]\n"
     ]
    }
   ],
   "source": [
    "#2.1.7  列表排序\n",
    "# 使用列表对象的sort()方法进行原地排序，支持多种不同的排序方法。\n",
    "\n",
    "aList = [3, 4, 5, 6, 7, 9, 11, 13, 15, 17]\n",
    "\n",
    "import random\n",
    "\n",
    "random.shuffle(aList)\n",
    "print(aList)\n",
    "aList.sort()                            #默认是升序排序\n",
    "print(aList)\n",
    "aList.sort(reverse=True)              #降序排序\n",
    "print(aList)\n",
    "aList.sort(key=lambda x:len(str(x)))  #按转换成字符串的长度排序\n",
    "print(aList)"
   ]
  },
  {
   "cell_type": "code",
   "execution_count": 30,
   "metadata": {},
   "outputs": [
    {
     "name": "stdout",
     "output_type": "stream",
     "text": [
      "[3, 4, 5, 6, 7, 9, 11, 13, 15, 17]\n",
      "[17, 15, 13, 11, 9, 7, 6, 5, 4, 3]\n"
     ]
    }
   ],
   "source": [
    "# 使用内置函数sorted()对列表进行排序并返回新列表。\n",
    "\n",
    "aList = [9, 7, 6, 5, 4, 3, 17, 15, 13, 11]\n",
    "print(sorted(aList))                            #升序排序\n",
    "print(sorted(aList, reverse=True))"
   ]
  },
  {
   "cell_type": "code",
   "execution_count": 31,
   "metadata": {},
   "outputs": [
    {
     "name": "stdout",
     "output_type": "stream",
     "text": [
      "[17, 15, 13, 11, 9, 7, 6, 5, 4, 3]\n"
     ]
    }
   ],
   "source": [
    "# 使用列表对象的reverse()方法将元素原地逆序。\n",
    "\n",
    "aList = [3, 4, 5, 6, 7, 9, 11, 13, 15, 17]\n",
    "aList.reverse()\n",
    "print(aList)"
   ]
  },
  {
   "cell_type": "code",
   "execution_count": 32,
   "metadata": {},
   "outputs": [
    {
     "name": "stdout",
     "output_type": "stream",
     "text": [
      "18446744073709551615\n",
      "18446744073709551615\n"
     ]
    }
   ],
   "source": [
    "# 2.1.9  列表推导式\n",
    "\n",
    "# 阿凡提与国王比赛下棋，国王说要是自己输了的话阿凡提想要什么他都可以拿得出来。\n",
    "# 阿凡提说那就要点米吧，棋盘一共64个小格子，在第一个格子里放1粒米，第二个格子里放2粒米，\n",
    "# 第三个格子里放4粒米，第四个格子里放8粒米，以此类推，后面每个格子里的米都是前一个格子里的2倍，\n",
    "# 一直把64个格子都放满。需要多少粒米呢？\n",
    "\n",
    "print(sum([2**i for i in range(64)]))\n",
    "print(int('1'*64, 2))"
   ]
  },
  {
   "cell_type": "code",
   "execution_count": 33,
   "metadata": {},
   "outputs": [],
   "source": [
    "# 列表推导式在内部实际上是一个循环结构，只是形式更加简洁，例如：\n",
    "aList = [x*x for x in range(10)]\n",
    "\n",
    "# 相当于\n",
    "aList = []\n",
    "for x in range(10):\n",
    "    aList.append(x*x)\n",
    "\n",
    "# 也相当于\n",
    "aList = list(map(lambda x: x*x, range(10)))"
   ]
  },
  {
   "cell_type": "code",
   "execution_count": 34,
   "metadata": {},
   "outputs": [
    {
     "name": "stdout",
     "output_type": "stream",
     "text": [
      "[1, 2, 3, 4, 5, 6, 7, 8, 9]\n",
      "[1, 2, 3, 4, 5, 6, 7, 8, 9]\n"
     ]
    }
   ],
   "source": [
    "# 使用列表推导式实现嵌套列表的平铺\n",
    "vec = [[1,2,3], [4,5,6], [7,8,9]] \n",
    "print([num for elem in vec for num in elem])\n",
    "\n",
    "# 相当于\n",
    "vec = [[1, 2, 3], [4, 5, 6], [7, 8, 9]]\n",
    "result = []\n",
    "for elem in vec:\n",
    "    for num in elem:\n",
    "        result.append(num)\n",
    "\n",
    "print(result)"
   ]
  },
  {
   "cell_type": "code",
   "execution_count": 35,
   "metadata": {},
   "outputs": [
    {
     "name": "stdout",
     "output_type": "stream",
     "text": [
      "[6, 7.5, 9]\n"
     ]
    }
   ],
   "source": [
    "# 过滤不符合条件的元素\n",
    "aList = [-1,-4,6,7.5,-2.3,9,-11]\n",
    "print([i for i in aList if i>0])"
   ]
  },
  {
   "cell_type": "code",
   "execution_count": 36,
   "metadata": {},
   "outputs": [
    {
     "name": "stdout",
     "output_type": "stream",
     "text": [
      "99 40 72.33333333333333\n",
      "['Wu Shi']\n"
     ]
    }
   ],
   "source": [
    "# 已知有一个包含一些同学成绩的字典，计算成绩的最高分、最低分、平均分，并查找所有最高分同学。\n",
    "\n",
    "scores = {\"Zhang San\": 45, \"Li Si\": 78, \"Wang Wu\": 40,\n",
    "          \"Zhou Liu\": 96,\"Zhao Qi\": 65, \"Sun Ba\": 90,\n",
    "          \"Zheng Jiu\": 78, \"Wu Shi\": 99,\"Dong Shiyi\": 60}\n",
    "highest = max(scores.values())\n",
    "lowest = min(scores.values())\n",
    "average = sum(scores.values())*1.0/len(scores)\n",
    "print(highest, lowest, average)\n",
    "\n",
    "highestPerson = [name for name, score in scores.items() if score == highest]\n",
    "print(highestPerson)"
   ]
  },
  {
   "cell_type": "code",
   "execution_count": 37,
   "metadata": {},
   "outputs": [
    {
     "name": "stdout",
     "output_type": "stream",
     "text": [
      "[(0, 0), (0, 1), (0, 2), (1, 0), (1, 1), (1, 2), (2, 0), (2, 1), (2, 2)]\n",
      "[(1, 3), (1, 4), (2, 3), (2, 1), (2, 4), (3, 1), (3, 4)]\n"
     ]
    }
   ],
   "source": [
    "# 在列表推导式中使用多个循环，实现多序列元素的任意组合\n",
    "\n",
    "print([(x, y) for x in range(3) for y in range(3)])\n",
    "print([(x, y) for x in [1, 2, 3] for y in [3, 1, 4] if x!=y])"
   ]
  },
  {
   "cell_type": "code",
   "execution_count": 38,
   "metadata": {},
   "outputs": [
    {
     "name": "stdout",
     "output_type": "stream",
     "text": [
      "[[1, 5, 9], [2, 6, 10], [3, 7, 11], [4, 8, 12]]\n"
     ]
    },
    {
     "data": {
      "text/plain": [
       "[[1, 5, 9], [2, 6, 10], [3, 7, 11], [4, 8, 12]]"
      ]
     },
     "execution_count": 38,
     "metadata": {},
     "output_type": "execute_result"
    }
   ],
   "source": [
    "# 使用列表推导式实现矩阵转置\n",
    "\n",
    "matrix = [ [1, 2, 3, 4], [5, 6, 7, 8], [9, 10, 11, 12]] \n",
    "print([[row[i] for row in matrix] for i in range(4)])\n",
    "[[1, 5, 9], [2, 6, 10], [3, 7, 11], [4, 8, 12]] \n",
    "\n",
    "#也可以使用内置函数来实现矩阵转置\n",
    "\n",
    "list(map(list, zip(*matrix)))"
   ]
  },
  {
   "cell_type": "code",
   "execution_count": 39,
   "metadata": {},
   "outputs": [
    {
     "name": "stdout",
     "output_type": "stream",
     "text": [
      "[68, 75, 40, 73, 63, 104, 69, 27, 14, 12]\n",
      "268\n",
      "268\n",
      "[11, 9, 8, 9, 3, 4, 7, 13, 19, 16]\n"
     ]
    }
   ],
   "source": [
    "# 2.1.10  使用列表实现向量运算\n",
    "\n",
    "import random\n",
    "\n",
    "x = [random.randint(1,100) for i in range(10)]        #生成随机数\n",
    "print(list(map(lambda i: i+5, x)))                    #所有元素同时加5\n",
    "x = [random.randint(1,10) for i in range(10)]\n",
    "y = [random.randint(1,10) for i in range(10)]\n",
    "\n",
    "import operator\n",
    "\n",
    "print(sum(map(operator.mul, x, y)))                   #向量内积\n",
    "print(sum((i*j for i, j in zip(x, y))))               #向量内积\n",
    "print(list(map(operator.add, x, y)))                  #两个等长的向量对应元素相加"
   ]
  },
  {
   "cell_type": "code",
   "execution_count": 41,
   "metadata": {},
   "outputs": [],
   "source": [
    "# 2.2.1  元组创建与删除\n",
    "\n",
    "# 使用“=”将一个元组赋值给变量\n",
    "\n",
    "a_tuple = ('a', 'b', 'mpilgrim', 'z', 'example')\n",
    "a = (3,)              #包含一个元素的元组，最后必须多写个逗号\n",
    "a = 3,                #也可以这样创建元组\n",
    "x = ()               #空元组"
   ]
  },
  {
   "cell_type": "code",
   "execution_count": 43,
   "metadata": {},
   "outputs": [
    {
     "name": "stdout",
     "output_type": "stream",
     "text": [
      "('a', 'b', 'c', 'd', 'e', 'f', 'g')\n",
      "(-1, -4, 6, 7.5, -2.3, 9, -11)\n",
      "()\n"
     ]
    }
   ],
   "source": [
    "# 使用tuple函数将其他序列转换为元组\n",
    "\n",
    "print(tuple('abcdefg'))                    #把字符串转换为元组\n",
    "aList = [-1, -4, 6, 7.5, -2.3, 9, -11]\n",
    "print(tuple(aList))                        #把列表转换为元组\n",
    "s = tuple()                                #空元组\n",
    "print(s)"
   ]
  },
  {
   "cell_type": "code",
   "execution_count": 45,
   "metadata": {},
   "outputs": [],
   "source": [
    "# 2.2.3  序列解包\n",
    "\n",
    "# 可以使用序列解包功能对多个变量同时赋值。\n",
    "x, y, z = 1, 2, 3             #多个变量同时赋值\n",
    "v_tuple = (False, 3.5, 'exp')\n",
    "(x, y, z) = v_tuple\n",
    "x, y, z = v_tuple\n",
    "x, y, z = range(3)            #可以对range对象进行序列解包\n",
    "x, y, z = iter([1, 2, 3])     #使用迭代器对象进行序列解包\n",
    "x, y, z = map(str, range(3))  #使用可迭代的map对象进行序列解包\n",
    "a, b = 1, 2\n",
    "a, b = b, a                   #交换两个变量的值\n",
    "x, y, z = sorted([1, 3, 2])   #sorted()函数返回排序后的列表\n",
    "a, b, c = 'ABC'               #字符串也支持序列解包\n",
    "x = [1, 2, 3, 4, 5, 6]\n",
    "x[:3] = map(str, range(5))    #切片也支持序列解包"
   ]
  },
  {
   "cell_type": "code",
   "execution_count": 46,
   "metadata": {},
   "outputs": [
    {
     "name": "stdout",
     "output_type": "stream",
     "text": [
      "<generator object <genexpr> at 0x000001EEF1DE8120>\n",
      "(4, 9, 16, 25, 36, 49, 64, 81, 100, 121)\n",
      "[]\n",
      "4\n",
      "9\n",
      "16\n"
     ]
    }
   ],
   "source": [
    "# 2.2.4  生成器推导式\n",
    "\n",
    "# 使用生成器对象__next__()方法或内置函数next()进行遍历\n",
    "g = ((i+2)**2 for i in range(10))  #创建生成器对象\n",
    "print(g)\n",
    "print(tuple(g))                    #将生成器对象转换为元组\n",
    "print(list(g))                     #生成器对象已遍历结束，没有元素了\n",
    "\n",
    "g = ((i+2)**2 for i in range(10))  #重新创建生成器对象\n",
    "print(g.__next__())                #使用生成器对象的__next__()方法获取元素\n",
    "print(g.__next__())                #获取下一个元素\n",
    "print(next(g))                     #使用函数next()获取生成器对象中的元素"
   ]
  },
  {
   "cell_type": "code",
   "execution_count": 47,
   "metadata": {},
   "outputs": [
    {
     "name": "stdout",
     "output_type": "stream",
     "text": [
      "4 9 16 25 36 49 64 81 100 121 "
     ]
    }
   ],
   "source": [
    "# 使用for循环直接迭代生成器对象中的元素\n",
    "\n",
    "g = ((i+2)**2 for i in range(10))\n",
    "for item in g:                #使用循环直接遍历生成器对象中的元素\n",
    "    print(item, end=' ')"
   ]
  },
  {
   "cell_type": "code",
   "execution_count": 48,
   "metadata": {},
   "outputs": [],
   "source": [
    "# 2.3.1  字典创建与删除\n",
    "\n",
    "# 使用=将一个字典赋值给一个变量\n",
    "\n",
    "a_dict = {'server': 'db.diveintopython3.org', 'database': 'mysql'}\n",
    "x = {}                     #空字典"
   ]
  },
  {
   "cell_type": "code",
   "execution_count": 49,
   "metadata": {},
   "outputs": [],
   "source": [
    "# 使用dict利用已有数据创建字典：\n",
    "\n",
    "keys = ['a', 'b', 'c', 'd']\n",
    "values = [1, 2, 3, 4]\n",
    "dictionary = dict(zip(keys, values))\n",
    "x = dict()    #空字典"
   ]
  },
  {
   "cell_type": "code",
   "execution_count": 50,
   "metadata": {},
   "outputs": [],
   "source": [
    "# 使用dict根据给定的键、值创建字典\n",
    "\n",
    "d = dict(name='Dong', age=37)"
   ]
  },
  {
   "cell_type": "code",
   "execution_count": 51,
   "metadata": {},
   "outputs": [],
   "source": [
    "# 以给定内容为键，创建值为空的字典\n",
    "\n",
    "adict = dict.fromkeys(['name', 'age', 'sex'])"
   ]
  },
  {
   "cell_type": "code",
   "execution_count": 53,
   "metadata": {},
   "outputs": [
    {
     "name": "stdout",
     "output_type": "stream",
     "text": [
      "Dong\n"
     ]
    }
   ],
   "source": [
    "# 2.3.2  字典元素的读取\n",
    "\n",
    "# 以键作为下标可以读取字典元素，若键不存在则抛出异常\n",
    "\n",
    "aDict = {'name':'Dong', 'sex':'male', 'age':37}\n",
    "print(aDict['name'])\n",
    "#print(aDict['tel'])                     #键不存在，抛出异常"
   ]
  },
  {
   "cell_type": "code",
   "execution_count": 54,
   "metadata": {},
   "outputs": [
    {
     "name": "stdout",
     "output_type": "stream",
     "text": [
      "None\n",
      "SDIBT\n"
     ]
    }
   ],
   "source": [
    "# 使用字典对象的get()方法获取指定键对应的值，并且可以在键不存在的时候返回指定值。\n",
    "\n",
    "print(aDict.get('address'))\n",
    "print(aDict.get('address', 'SDIBT'))"
   ]
  },
  {
   "cell_type": "code",
   "execution_count": 55,
   "metadata": {},
   "outputs": [
    {
     "name": "stdout",
     "output_type": "stream",
     "text": [
      "{'name': 'Dong', 'sex': 'male', 'age': 38}\n",
      "{'name': 'Dong', 'sex': 'male', 'age': 38, 'address': 'SDIBT'}\n"
     ]
    }
   ],
   "source": [
    "# 2.3.3  字典元素的添加与修改\n",
    "\n",
    "#当以指定键为下标为字典赋值时：1）若键存在，则可以修改该键的值；2）若不存在，则表示添加一个键、值对。\n",
    "\n",
    "aDict['age'] = 38                 #修改元素值\n",
    "print(aDict)\n",
    "aDict['address'] = 'SDIBT'        #增加新元素\n",
    "print(aDict)"
   ]
  },
  {
   "cell_type": "code",
   "execution_count": 57,
   "metadata": {},
   "outputs": [
    {
     "name": "stdout",
     "output_type": "stream",
     "text": [
      "{'U': 15, 'p': 18, 'S': 16, '8': 19, 'A': 12, 'H': 19, 'C': 16, 'L': 16, 'W': 14, 'B': 12, 'E': 15, 'l': 17, 'F': 13, 'P': 19, '1': 23, 's': 12, 'i': 13, 'g': 19, '0': 22, 'f': 17, 'v': 17, 'N': 10, 'V': 12, 'd': 19, 'G': 21, 'b': 10, 'k': 15, 't': 18, '2': 18, 'h': 5, 'T': 14, 'q': 16, 'o': 15, '6': 19, 'J': 24, 'r': 25, 'Y': 18, 'K': 17, 'X': 12, '3': 20, 'D': 20, 'x': 13, '9': 17, 'I': 20, 'y': 15, 'M': 15, 'a': 14, 'Z': 20, 'm': 13, '5': 9, 'u': 12, 'j': 19, 'R': 12, 'c': 23, 'n': 17, 'z': 19, 'e': 13, 'w': 16, '4': 15, 'Q': 12, 'O': 14, '7': 20}\n"
     ]
    }
   ],
   "source": [
    "# 2.3.4  字典应用案例\n",
    "\n",
    "# 首先生成包含1000个随机字符的字符串，然后统计每个字符的出现次数。\n",
    "\n",
    "from random import choices\n",
    "from string import ascii_letters, digits\n",
    "\n",
    "z = ''.join(choices(ascii_letters+digits, k=1000))\n",
    "d = dict()        #字典中的“键”表示字符，“值”表示出现的次数\n",
    "for ch in z:\n",
    "    d[ch] = d.get(ch,0) + 1\n",
    "print(d)"
   ]
  },
  {
   "cell_type": "code",
   "execution_count": 58,
   "metadata": {},
   "outputs": [
    {
     "name": "stdout",
     "output_type": "stream",
     "text": [
      "dict_items([('U', 15), ('p', 18), ('S', 16), ('8', 19), ('A', 12), ('H', 19), ('C', 16), ('L', 16), ('W', 14), ('B', 12), ('E', 15), ('l', 17), ('F', 13), ('P', 19), ('1', 23), ('s', 12), ('i', 13), ('g', 19), ('0', 22), ('f', 17), ('v', 17), ('N', 10), ('V', 12), ('d', 19), ('G', 21), ('b', 10), ('k', 15), ('t', 18), ('2', 18), ('h', 5), ('T', 14), ('q', 16), ('o', 15), ('6', 19), ('J', 24), ('r', 25), ('Y', 18), ('K', 17), ('X', 12), ('3', 20), ('D', 20), ('x', 13), ('9', 17), ('I', 20), ('y', 15), ('M', 15), ('a', 14), ('Z', 20), ('m', 13), ('5', 9), ('u', 12), ('j', 19), ('R', 12), ('c', 23), ('n', 17), ('z', 19), ('e', 13), ('w', 16), ('4', 15), ('Q', 12), ('O', 14), ('7', 20)])\n",
      "[('r', 25)]\n",
      "[('r', 25), ('J', 24), ('1', 23)]\n"
     ]
    }
   ],
   "source": [
    "# 使用collections模块的Counter类可以快速实现这个功能，并且提供更多功能，例如查找出现次数最多的元素。\n",
    "from collections import Counter\n",
    "frequences = Counter(z)\n",
    "\n",
    "print(frequences.items())\n",
    "print(frequences.most_common(1))          #出现次数最多的一个字符\n",
    "print(frequences.most_common(3))"
   ]
  },
  {
   "cell_type": "code",
   "execution_count": 59,
   "metadata": {},
   "outputs": [
    {
     "name": "stdout",
     "output_type": "stream",
     "text": [
      "{1: '1', 2: '2', 3: '3', 4: '4'}\n",
      "{'A': 'a', 'B': 'b', 'C': 'b', 'D': 'd'}\n"
     ]
    }
   ],
   "source": [
    "# 2.3.6  字典推导式\n",
    "\n",
    "print({i:str(i) for i in range(1, 5)})\n",
    "\n",
    "x = ['A', 'B', 'C', 'D']\n",
    "y = ['a', 'b', 'b', 'd']\n",
    "print({i:j for i,j in zip(x,y)})"
   ]
  },
  {
   "cell_type": "code",
   "execution_count": 60,
   "metadata": {},
   "outputs": [],
   "source": [
    "# 2.4.1  集合的创建与删除\n",
    "\n",
    "a = {3, 5}\n",
    "a_set = set(range(8,14))\n",
    "b_set = set([0, 1, 2, 3, 0, 1, 2, 3, 7, 8])   #自动去除重复\n",
    "c_set = set()                                 #空集合"
   ]
  },
  {
   "cell_type": "code",
   "execution_count": 61,
   "metadata": {},
   "outputs": [
    {
     "name": "stdout",
     "output_type": "stream",
     "text": [
      "{0, 1, 2, 3, 7, 8, 9, 10, 11, 12, 13}\n",
      "{8}\n",
      "{9, 10, 11, 12, 13}\n",
      "{0, 1, 2, 3, 7, 9, 10, 11, 12, 13}\n"
     ]
    }
   ],
   "source": [
    "# 2.4.2  集合运算\n",
    "\n",
    "# 交集、并集、差集、对称差集等运算\n",
    "a_set = set([8, 9, 10, 11, 12, 13])\n",
    "b_set = {0, 1, 2, 3, 7, 8}\n",
    "print(a_set | b_set)                             #并集\n",
    "print(a_set & b_set)                             #交集\n",
    "print(a_set - b_set)\n",
    "print(a_set ^ b_set)                             #对称差集"
   ]
  },
  {
   "cell_type": "code",
   "execution_count": 62,
   "metadata": {},
   "outputs": [
    {
     "name": "stdout",
     "output_type": "stream",
     "text": [
      "False\n",
      "True\n",
      "False\n",
      "True\n"
     ]
    }
   ],
   "source": [
    "# 集合包含关系测试\n",
    "x = {1, 2, 3}\n",
    "y = {1, 2, 5}\n",
    "z = {1, 2, 3, 4}\n",
    "print(x < y)                                #比较集合大小/包含关系\n",
    "print(x < z)                                #真子集\n",
    "print(y < z)\n",
    "print({1, 2, 3} <= {1, 2, 3})               #子集"
   ]
  },
  {
   "cell_type": "code",
   "execution_count": 1,
   "metadata": {},
   "outputs": [
    {
     "name": "stdout",
     "output_type": "stream",
     "text": [
      "RandomNumbers 0.05485129356384277\n",
      "RandomNumbers1 0.04986691474914551\n",
      "RandomNumbers2 0.014959335327148438\n"
     ]
    }
   ],
   "source": [
    "# 2.4.3  集合运用案例\n",
    "# 例2-1  生成不重复随机数的效率比较。\n",
    "\n",
    "import random\n",
    "import time\n",
    "\n",
    "def RandomNumbers(number, start, end):\n",
    "    '''使用列表来生成number个介于start和end之间的不重复随机数'''\n",
    "    data = []\n",
    "    n = 0\n",
    "    while True:\n",
    "        element = random.randint(start, end)\n",
    "        if element not in data:\n",
    "            data.append(element)\n",
    "            n += 1\n",
    "            if n == number:\n",
    "                break\n",
    "    return data\n",
    "\n",
    "\n",
    "def RandomNumbers1(number, start, end):\n",
    "    '''使用列表来生成number个介于start和end之间的不重复随机数'''\n",
    "    data = []\n",
    "    while True:\n",
    "        element = random.randint(start, end)\n",
    "        if element not in data:\n",
    "            data.append(element)\n",
    "            if len(data) == number:\n",
    "                break\n",
    "    return data\n",
    "\n",
    "\n",
    "def RandomNumbers2(number, start, end):\n",
    "    '''使用集合来生成number个介于start和end之间的不重复随机数'''\n",
    "    data = set()\n",
    "    while True:\n",
    "        data.add(random.randint(start, end))\n",
    "        if len(data) == number:\n",
    "            break\n",
    "    return data\n",
    "\n",
    "\n",
    "# 数字范围\n",
    "begin, end = 1, 100000\n",
    "# 要获取的不重复数字个数\n",
    "num = 500\n",
    "# 重复测试次数\n",
    "rep = 10\n",
    "for ran in (RandomNumbers,RandomNumbers1,RandomNumbers2):\n",
    "    start = time.time()\n",
    "    for i in range(rep):\n",
    "        ran(num, begin, end)\n",
    "    print(ran.__name__, time.time()-start)"
   ]
  },
  {
   "cell_type": "code",
   "execution_count": null,
   "metadata": {},
   "outputs": [],
   "source": []
  }
 ],
 "metadata": {
  "kernelspec": {
   "display_name": "Python 3",
   "language": "python",
   "name": "python3"
  },
  "language_info": {
   "codemirror_mode": {
    "name": "ipython",
    "version": 3
   },
   "file_extension": ".py",
   "mimetype": "text/x-python",
   "name": "python",
   "nbconvert_exporter": "python",
   "pygments_lexer": "ipython3",
   "version": "3.8.3"
  }
 },
 "nbformat": 4,
 "nbformat_minor": 4
}
